{
  "nbformat": 4,
  "nbformat_minor": 0,
  "metadata": {
    "colab": {
      "provenance": [],
      "include_colab_link": true
    },
    "kernelspec": {
      "name": "python3",
      "display_name": "Python 3"
    },
    "language_info": {
      "name": "python"
    }
  },
  "cells": [
    {
      "cell_type": "markdown",
      "metadata": {
        "id": "view-in-github",
        "colab_type": "text"
      },
      "source": [
        "<a href=\"https://colab.research.google.com/github/00adrian/repositorio_Python/blob/main/Adrian_Gonzalez_Actividad_6.ipynb\" target=\"_parent\"><img src=\"https://colab.research.google.com/assets/colab-badge.svg\" alt=\"Open In Colab\"/></a>"
      ]
    },
    {
      "cell_type": "markdown",
      "source": [
        "\n",
        "\n",
        "---\n",
        "\n",
        "\n",
        "# **ACTIVIDAD 6**\n",
        "\n",
        "## Funciones\n",
        "\n",
        "###**NOTA** 🌟: Para realizar la actividad y que le permita guardar cambios es necesario **sacarle una copia** al archivo original. Recuerde que todo archivo al que le saque copia se ira directamente a su carpeta de **Colab Notebooks** dentro de su **Drive**. Una vez terminado, descargue su archivo de actividad con extensión **.ipynb** y adjúntelo a la tarea correspondiente en el curso de la plataforma de [Formación docente cucei](http://formaciondocente.cucei.udg.mx/mod/assign/view.php?id=41616).\n",
        "\n",
        "---\n",
        "\n"
      ],
      "metadata": {
        "id": "eDxxkNgBumYd"
      }
    },
    {
      "cell_type": "markdown",
      "source": [
        "###**Ejercicio 1**\n",
        "\n",
        "\n",
        "####Realice una función sin paso de parámetros con retorno múltiple. E imprime el resultado.\n",
        "\n"
      ],
      "metadata": {
        "id": "0KX-iU62kHaE"
      }
    },
    {
      "cell_type": "code",
      "source": [
        "def funcion1():\n",
        "  a = \"Hola\"\n",
        "  b = \"Esta es una función de Prueba\"\n",
        "  c = \"Adios\"\n",
        "  return a, b, c"
      ],
      "metadata": {
        "id": "5LmYT7y2ZaJS"
      },
      "execution_count": null,
      "outputs": []
    },
    {
      "cell_type": "code",
      "source": [
        "funcion1()"
      ],
      "metadata": {
        "colab": {
          "base_uri": "https://localhost:8080/"
        },
        "id": "BWtiJy073J-i",
        "outputId": "97d2fa68-a767-4ff5-8eb2-6ffdc4bd6851"
      },
      "execution_count": null,
      "outputs": [
        {
          "output_type": "execute_result",
          "data": {
            "text/plain": [
              "('Hola', 'Esta es una función de Prueba', 'Adios')"
            ]
          },
          "metadata": {},
          "execution_count": 2
        }
      ]
    },
    {
      "cell_type": "markdown",
      "metadata": {
        "id": "Db-UHxfVDCPS"
      },
      "source": [
        "###**Ejercicio 2:**\n",
        "\n",
        "####Realizar una función con paso de parámetros que a partir de dos números cumpla lo siguiente:\n",
        "\n",
        "*   Si el primer número es mayor que el segundo, debe retornar un valor de **1**.\n",
        "\n",
        "*   Si el primer número es menor que el segundo, debe retornar un valor de **-1**.\n",
        "\n",
        "*   Si ambos números son iguales, debe retornar un valor de **0**."
      ]
    },
    {
      "cell_type": "code",
      "source": [
        "def funcion2(num1, num2):\n",
        "  if num1 > num2:\n",
        "    return 1\n",
        "  elif num1 < num2:\n",
        "    return -1\n",
        "  else:\n",
        "    return 0"
      ],
      "metadata": {
        "id": "ua4WoeBfISX2"
      },
      "execution_count": null,
      "outputs": []
    },
    {
      "cell_type": "code",
      "source": [
        "# Primer Caso\n",
        "funcion2(1,30)"
      ],
      "metadata": {
        "colab": {
          "base_uri": "https://localhost:8080/"
        },
        "id": "rwYkLs3U3oUL",
        "outputId": "112b951c-93d3-4e67-b75f-87479cc88fa7"
      },
      "execution_count": null,
      "outputs": [
        {
          "output_type": "execute_result",
          "data": {
            "text/plain": [
              "-1"
            ]
          },
          "metadata": {},
          "execution_count": 4
        }
      ]
    },
    {
      "cell_type": "code",
      "source": [
        "# Segundo Caso\n",
        "funcion2(100,30)"
      ],
      "metadata": {
        "colab": {
          "base_uri": "https://localhost:8080/"
        },
        "id": "LdmPO7G23qVI",
        "outputId": "f77e0559-f1cd-4e16-e3bb-9dbe94df39aa"
      },
      "execution_count": null,
      "outputs": [
        {
          "output_type": "execute_result",
          "data": {
            "text/plain": [
              "1"
            ]
          },
          "metadata": {},
          "execution_count": 15
        }
      ]
    },
    {
      "cell_type": "code",
      "source": [
        "# Tercer Caso\n",
        "funcion2(100,100)"
      ],
      "metadata": {
        "colab": {
          "base_uri": "https://localhost:8080/"
        },
        "id": "mYSltOIU3wlJ",
        "outputId": "ddcd7591-5324-4a9c-c3f7-785fa4db927b"
      },
      "execution_count": null,
      "outputs": [
        {
          "output_type": "execute_result",
          "data": {
            "text/plain": [
              "0"
            ]
          },
          "metadata": {},
          "execution_count": 16
        }
      ]
    },
    {
      "cell_type": "code",
      "source": [],
      "metadata": {
        "id": "SxiO2xJr31lY"
      },
      "execution_count": null,
      "outputs": []
    }
  ]
}